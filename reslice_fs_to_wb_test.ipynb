{
 "cells": [
  {
   "cell_type": "code",
   "execution_count": null,
   "id": "ccc45dc8",
   "metadata": {},
   "outputs": [],
   "source": [
    "# Import the necesarry modules for this example \n",
    "import surfAnalysisPy as surf\n",
    "import numpy as np\n",
    "import nibabel as nb\n",
    "import os\n",
    "import matplotlib.pyplot as plt"
   ]
  },
  {
   "cell_type": "code",
   "execution_count": null,
   "id": "a894ae99",
   "metadata": {},
   "outputs": [],
   "source": [
    "subjName = ''\n",
    "subjDir = ''\n",
    "outDir = ''"
   ]
  },
  {
   "cell_type": "code",
   "execution_count": null,
   "id": "92d24272",
   "metadata": {},
   "outputs": [],
   "source": [
    "surf.map.reslice_fs_to_wb(subjName,subjDir,outDir,resolution='164k')"
   ]
  }
 ],
 "metadata": {
  "kernelspec": {
   "display_name": "Python 3",
   "language": "python",
   "name": "python3"
  },
  "language_info": {
   "codemirror_mode": {
    "name": "ipython",
    "version": 3
   },
   "file_extension": ".py",
   "mimetype": "text/x-python",
   "name": "python",
   "nbconvert_exporter": "python",
   "pygments_lexer": "ipython3",
   "version": "3.9.5"
  }
 },
 "nbformat": 4,
 "nbformat_minor": 5
}
